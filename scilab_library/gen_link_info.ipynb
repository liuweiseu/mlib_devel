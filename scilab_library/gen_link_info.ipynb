{
 "cells": [
  {
   "cell_type": "code",
   "execution_count": 18,
   "id": "d2bba17d-4d15-4f3b-a928-5782ae402c63",
   "metadata": {},
   "outputs": [],
   "source": [
    "import json, yaml\n",
    "import os\n",
    "from datetime import datetime\n",
    "from utils.gen_link_info import gen_port_info"
   ]
  },
  {
   "cell_type": "code",
   "execution_count": 19,
   "id": "deba12d3-f94a-49e1-bd37-0ad00028ae8e",
   "metadata": {},
   "outputs": [],
   "source": [
    "# set env vars\n",
    "os.environ['MLIB_DEVEL_PATH'] = '/home/wei/scilab_demo/mlib_devel'\n",
    "os.environ['HDL_ROOT'] = '/home/wei/scilab_demo/mlib_devel/scilab_library/hdl_sources'"
   ]
  },
  {
   "cell_type": "code",
   "execution_count": 42,
   "id": "6fcaf84c-df74-47e3-9835-8aafd50add32",
   "metadata": {},
   "outputs": [],
   "source": [
    "# write the blkinfo to the dict\n",
    "def write_blkinfo_to_dict(blk_info, blk_tmp):\n",
    "    # make a copy of the dict\n",
    "    template = blk_tmp.copy()\n",
    "    keys = list(template.keys())\n",
    "    index = blk_info['id']\n",
    "    for i in range(len(index)):\n",
    "        try:\n",
    "            template[keys[index[i][0]]] = int(blk_info['val'][i][0])\n",
    "        except:\n",
    "            try:\n",
    "                template[keys[index[i][0]]] = float(blk_info['val'][i][0])\n",
    "            except:\n",
    "                if blk_info['val'][i][0] == 'on':\n",
    "                    template[keys[index[i][0]]] = True\n",
    "                elif blk_info['val'][i][0] == 'off':\n",
    "                    template[keys[index[i][0]]] = False\n",
    "                else:\n",
    "                    template[keys[index[i][0]]] = blk_info['val'][i][0]\n",
    "    # go through all of the k-v pairs in the template, \n",
    "    # and modify all of the 'on' to True and 'off' to False\n",
    "    for k, v in template.items():\n",
    "        if v == 'on':\n",
    "            template[k] = True\n",
    "        elif v == 'off':\n",
    "            template[k] = False\n",
    "    return template\n",
    "\n",
    "def gen_verilog_module(module_name, in_port, out_port, bitwidth = 1, path = './'):\n",
    "    '''\n",
    "    Description: \n",
    "        Generate user module for jasper.\n",
    "        The module only has one in_port, but it may have multiple out_ports.\n",
    "        The only one in_port drives all of the out_ports.\n",
    "    Inputs:\n",
    "        - module_name(str): the name of the user module\n",
    "        - in_ports(list): the names of the in_ports\n",
    "        - out_ports(list): the names of the out_ports\n",
    "        - bitwidth(int): the bitwidth of the in_port\n",
    "        - path(str): the path to save the user module\n",
    "    '''\n",
    "    src_str = []\n",
    "    # add module name\n",
    "    src_str.append('module %s('%module_name)\n",
    "    # add clock port\n",
    "    src_str.append('input clk,')\n",
    "    # add in_ports\n",
    "    src_str.append('input [%d:0] %s,'%(bitwidth-1, in_port))\n",
    "    # add out_ports\n",
    "    src_str.append('output [%d:0] %s,'%(bitwidth-1, out_port))\n",
    "    # remove the last comma\n",
    "    src_str[-1] = src_str[-1][:-1]\n",
    "    # add endmodule\n",
    "    src_str.append(');\\n')\n",
    "    # add logic\n",
    "    src_str.append('assign %s = %s;'%(out_port, in_port))\n",
    "    # add endmodule\n",
    "    src_str.append('')\n",
    "    src_str.append('endmodule')\n",
    "    # write to file\n",
    "    with open('%s/%s.v'%(path, module_name), 'w') as f:\n",
    "        f.write('\\n'.join(src_str))\n",
    "\n",
    "def gen_glue_module(link_info,file_dir='./'):\n",
    "    module_name = link_info['link_type'] + '_' + link_info['src_blk_name'] + '_' + link_info['dst_blk_name']\n",
    "    in_port = link_info['src_port_name']\n",
    "    out_port = link_info['dst_port_name']\n",
    "    if link_info['src_port_width'] != link_info['dst_port_width']:\n",
    "        print('port width not match')\n",
    "        return\n",
    "    bitwidth = link_info['src_port_width']\n",
    "    gen_verilog_module(module_name, in_port, out_port, bitwidth, file_dir)"
   ]
  },
  {
   "cell_type": "code",
   "execution_count": 36,
   "id": "05d64d5a-94f9-4441-b3c8-e714f4213e27",
   "metadata": {},
   "outputs": [],
   "source": [
    "# get the scilab path from the environment variable\n",
    "mlib_devel_path = os.getenv('MLIB_DEVEL_PATH')\n",
    "scilab_library_path = mlib_devel_path + '/scilab_library'\n",
    "# open the jasper.json file\n",
    "with open('%s/jasper.json'%mlib_devel_path) as f:\n",
    "    blkinfo = json.load(f)\n",
    "# after reading the file, remove it\n",
    "# os.remove('jasper.json')\n",
    "# open the block_info_template.json file\n",
    "with open('%s/block_info_template.json'%(scilab_library_path)) as f:\n",
    "    blkinfo_template = json.load(f)"
   ]
  },
  {
   "cell_type": "code",
   "execution_count": 37,
   "id": "069fbb7b-96af-4661-b6a0-4769cd8f5d64",
   "metadata": {},
   "outputs": [],
   "source": [
    "blkfn = blkinfo['project']['filename']\n",
    "proj_name = blkfn.split('/')[-1].split('.')[0]\n",
    "filepath = blkfn.split('.')[0]"
   ]
  },
  {
   "cell_type": "code",
   "execution_count": 38,
   "id": "3fa9546c-d2ef-40d8-80bd-82a294aa1270",
   "metadata": {},
   "outputs": [],
   "source": [
    "# get the scilab blk, blk objs and link objs from the jaser.json file\n",
    "blk_objs = []\n",
    "for k, v in blkinfo.items():\n",
    "    if k.startswith('blk'):\n",
    "        blk_objs.append(v)\n",
    "link_info = blkinfo['link_info']\n",
    "# genenrate yellow blocks dict\n",
    "yellow_blocks = {}\n",
    "for blk in blk_objs:\n",
    "    tag = blk['tag']\n",
    "    # check if the block in the blockinfo starts with xps\n",
    "    if blkinfo_template[tag]['tag'].startswith('xps'):\n",
    "        # populate yellow block\n",
    "        key = proj_name + '/' + blk['val'][0][0]\n",
    "        yellow_blocks[key] = write_blkinfo_to_dict(blk, blkinfo_template[tag])\n",
    "        yellow_blocks[key]['fullpath'] = key\n",
    "user_modules = {}\n",
    "jasper_per = {}\n",
    "jasper_per['yellow_blocks'] = yellow_blocks\n",
    "jasper_per['user_modules'] = user_modules"
   ]
  },
  {
   "cell_type": "code",
   "execution_count": 39,
   "id": "c32f872e-df06-4d2d-9a3e-49f2defcf7d1",
   "metadata": {},
   "outputs": [],
   "source": [
    "# now, we need to generate jasper.dsp, which contains the dsp block info\n",
    "dsp_blocks = {}\n",
    "for blk in blk_objs:\n",
    "    tag = blk['tag']\n",
    "    # check if the block in the blockinfo starts with dsp or xps:xsg\n",
    "    # we need xps:xsg as it contains the platform info\n",
    "    if blkinfo_template[tag]['tag'].startswith('dsp') or blkinfo_template[tag]['tag'] == 'xps:xsg':\n",
    "        # populate dsp block\n",
    "        key = proj_name + '/' + blk['val'][0][0]\n",
    "        dsp_blocks[key] = write_blkinfo_to_dict(blk, blkinfo_template[tag])\n",
    "        dsp_blocks[key]['fullpath'] = key\n",
    "# generate jasper.dsp\n",
    "jasper_dsp = {}\n",
    "jasper_dsp['dsp_blocks'] = dsp_blocks"
   ]
  },
  {
   "cell_type": "code",
   "execution_count": 40,
   "id": "8174e99a-629c-4173-b7dc-206b87732c68",
   "metadata": {},
   "outputs": [],
   "source": [
    "file_dir = '/home/wei/Projects/scilab_test/adder_test'"
   ]
  },
  {
   "cell_type": "code",
   "execution_count": 45,
   "id": "4e61b7c3-dc94-4d91-aae9-8fe16cc9b0c2",
   "metadata": {},
   "outputs": [],
   "source": [
    "for link in link_info:\n",
    "    if link['link_type'] == 'xps_xps' or link['link_type'] == 'dsp_dsp':\n",
    "        gen_glue_module(link, file_dir)"
   ]
  },
  {
   "cell_type": "code",
   "execution_count": 27,
   "id": "5b2e5b39-d549-4037-a851-d6ebd5246f08",
   "metadata": {},
   "outputs": [
    {
     "data": {
      "text/plain": [
       "{'src_blk_tag': 'swreg',\n",
       " 'src_blk_name': 'swreg0',\n",
       " 'src_blk_id': 1,\n",
       " 'src_port_name': 'adder_test_swreg0_user_data_out',\n",
       " 'src_port_id': 1,\n",
       " 'src_port_width': 32,\n",
       " 'dst_blk_tag': 'adder',\n",
       " 'dst_blk_name': 'adder',\n",
       " 'dst_blk_id': 5,\n",
       " 'dst_port_name': 'adder_test_adder_in1',\n",
       " 'dst_port_id': 1,\n",
       " 'dst_port_width': 32,\n",
       " 'link_type': 'xps_dsp'}"
      ]
     },
     "execution_count": 27,
     "metadata": {},
     "output_type": "execute_result"
    }
   ],
   "source": [
    "link_info[0]"
   ]
  },
  {
   "cell_type": "code",
   "execution_count": null,
   "id": "b40a16c7-e0da-4917-8c50-8b6a2d7cb5cf",
   "metadata": {},
   "outputs": [],
   "source": []
  }
 ],
 "metadata": {
  "kernelspec": {
   "display_name": "Python 3 (ipykernel)",
   "language": "python",
   "name": "python3"
  },
  "language_info": {
   "codemirror_mode": {
    "name": "ipython",
    "version": 3
   },
   "file_extension": ".py",
   "mimetype": "text/x-python",
   "name": "python",
   "nbconvert_exporter": "python",
   "pygments_lexer": "ipython3",
   "version": "3.8.18"
  }
 },
 "nbformat": 4,
 "nbformat_minor": 5
}
