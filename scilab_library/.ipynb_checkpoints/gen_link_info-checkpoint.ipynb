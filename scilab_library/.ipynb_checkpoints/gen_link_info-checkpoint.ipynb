{
 "cells": [
  {
   "cell_type": "code",
   "execution_count": 2,
   "id": "d2bba17d-4d15-4f3b-a928-5782ae402c63",
   "metadata": {},
   "outputs": [],
   "source": [
    "import json, yaml\n",
    "import os\n",
    "from datetime import datetime\n",
    "from utils.gen_link_info import gen_link_info"
   ]
  },
  {
   "cell_type": "code",
   "execution_count": 4,
   "id": "deba12d3-f94a-49e1-bd37-0ad00028ae8e",
   "metadata": {},
   "outputs": [],
   "source": [
    "# set env vars\n",
    "os.environ['MLIB_DEVEL_PATH'] = '/home/wei/scilab_demo/mlib_devel'\n",
    "os.environ['HDL_ROOT'] = '/home/wei/scilab_demo/mlib_devel/scilab_library/hdl_sources'"
   ]
  },
  {
   "cell_type": "code",
   "execution_count": 13,
   "id": "6fcaf84c-df74-47e3-9835-8aafd50add32",
   "metadata": {},
   "outputs": [],
   "source": [
    "# write the blkinfo to the dict\n",
    "def write_blkinfo_to_dict(blk_info, blk_tmp):\n",
    "    # make a copy of the dict\n",
    "    template = blk_tmp.copy()\n",
    "    keys = list(template.keys())\n",
    "    index = blk_info['id']\n",
    "    for i in range(len(index)):\n",
    "        try:\n",
    "            template[keys[index[i][0]]] = int(blk_info['val'][i][0])\n",
    "        except:\n",
    "            try:\n",
    "                template[keys[index[i][0]]] = float(blk_info['val'][i][0])\n",
    "            except:\n",
    "                if blk_info['val'][i][0] == 'on':\n",
    "                    template[keys[index[i][0]]] = True\n",
    "                elif blk_info['val'][i][0] == 'off':\n",
    "                    template[keys[index[i][0]]] = False\n",
    "                else:\n",
    "                    template[keys[index[i][0]]] = blk_info['val'][i][0]\n",
    "    # go through all of the k-v pairs in the template, \n",
    "    # and modify all of the 'on' to True and 'off' to False\n",
    "    for k, v in template.items():\n",
    "        if v == 'on':\n",
    "            template[k] = True\n",
    "        elif v == 'off':\n",
    "            template[k] = False\n",
    "    return template"
   ]
  },
  {
   "cell_type": "code",
   "execution_count": 6,
   "id": "05d64d5a-94f9-4441-b3c8-e714f4213e27",
   "metadata": {},
   "outputs": [],
   "source": [
    "# get the scilab path from the environment variable\n",
    "mlib_devel_path = os.getenv('MLIB_DEVEL_PATH')\n",
    "scilab_library_path = mlib_devel_path + '/scilab_library'\n",
    "# open the jasper.json file\n",
    "with open('%s/jasper.json'%mlib_devel_path) as f:\n",
    "    blkinfo = json.load(f)\n",
    "# after reading the file, remove it\n",
    "# os.remove('jasper.json')\n",
    "# open the block_info_template.json file\n",
    "with open('%s/block_info_template.json'%(scilab_library_path)) as f:\n",
    "    blkinfo_template = json.load(f)"
   ]
  },
  {
   "cell_type": "code",
   "execution_count": 8,
   "id": "069fbb7b-96af-4661-b6a0-4769cd8f5d64",
   "metadata": {},
   "outputs": [],
   "source": [
    "blkfn = blkinfo['project']['filename']\n",
    "proj_name = blkfn.split('/')[-1].split('.')[0]\n",
    "filepath = blkfn.split('.')[0]"
   ]
  },
  {
   "cell_type": "code",
   "execution_count": 11,
   "id": "08296697-5ead-4117-9c5a-2aeb50814d8e",
   "metadata": {},
   "outputs": [
    {
     "data": {
      "text/plain": [
       "'/home/wei/Projects/scilab_test/adder_test'"
      ]
     },
     "execution_count": 11,
     "metadata": {},
     "output_type": "execute_result"
    }
   ],
   "source": [
    "filepath"
   ]
  },
  {
   "cell_type": "code",
   "execution_count": 15,
   "id": "3fa9546c-d2ef-40d8-80bd-82a294aa1270",
   "metadata": {},
   "outputs": [],
   "source": [
    "# get the scilab blk, blk objs and link objs from the jaser.json file\n",
    "scilab_blk_objs = []\n",
    "blk_objs = []\n",
    "link_objs = []\n",
    "for k, v in blkinfo.items():\n",
    "    if k.startswith('blk'):\n",
    "        if v['tag'].startswith('scilab-blk'):\n",
    "            scilab_blk_objs.append(v)\n",
    "        else:\n",
    "            blk_objs.append(v)\n",
    "    if k.startswith('link'):\n",
    "        link_objs.append(v)\n",
    "\n",
    "# genenrate yellow blocks dict\n",
    "yellow_blocks = {}\n",
    "for blk in blk_objs:\n",
    "    tag = blk['tag']\n",
    "    # check if the block in the blockinfo starts with xps\n",
    "    if blkinfo_template[tag]['tag'].startswith('xps'):\n",
    "        # populate yellow block\n",
    "        key = proj_name + '/' + blk['val'][0][0]\n",
    "        yellow_blocks[key] = write_blkinfo_to_dict(blk, blkinfo_template[tag])\n",
    "        yellow_blocks[key]['fullpath'] = key\n",
    "user_modules = {}\n",
    "jasper_per = {}\n",
    "jasper_per['yellow_blocks'] = yellow_blocks\n",
    "jasper_per['user_modules'] = user_modules"
   ]
  },
  {
   "cell_type": "code",
   "execution_count": 16,
   "id": "c32f872e-df06-4d2d-9a3e-49f2defcf7d1",
   "metadata": {},
   "outputs": [],
   "source": [
    "# now, we need to generate jasper.dsp, which contains the dsp block info\n",
    "dsp_blocks = {}\n",
    "for blk in blk_objs:\n",
    "    tag = blk['tag']\n",
    "    # check if the block in the blockinfo starts with dsp or xps:xsg\n",
    "    # we need xps:xsg as it contains the platform info\n",
    "    if blkinfo_template[tag]['tag'].startswith('dsp') or blkinfo_template[tag]['tag'] == 'xps:xsg':\n",
    "        # populate dsp block\n",
    "        key = proj_name + '/' + blk['val'][0][0]\n",
    "        dsp_blocks[key] = write_blkinfo_to_dict(blk, blkinfo_template[tag])\n",
    "        dsp_blocks[key]['fullpath'] = key\n",
    "# generate jasper.dsp\n",
    "jasper_dsp = {}\n",
    "jasper_dsp['dsp_blocks'] = dsp_blocks"
   ]
  },
  {
   "cell_type": "code",
   "execution_count": null,
   "id": "34d1f438-2f54-49c2-b684-cdbfaa1d1077",
   "metadata": {},
   "outputs": [],
   "source": [
    "xps_link_info = gen_link_info(proj_name, )"
   ]
  }
 ],
 "metadata": {
  "kernelspec": {
   "display_name": "Python 3 (ipykernel)",
   "language": "python",
   "name": "python3"
  },
  "language_info": {
   "codemirror_mode": {
    "name": "ipython",
    "version": 3
   },
   "file_extension": ".py",
   "mimetype": "text/x-python",
   "name": "python",
   "nbconvert_exporter": "python",
   "pygments_lexer": "ipython3",
   "version": "3.8.18"
  }
 },
 "nbformat": 4,
 "nbformat_minor": 5
}
