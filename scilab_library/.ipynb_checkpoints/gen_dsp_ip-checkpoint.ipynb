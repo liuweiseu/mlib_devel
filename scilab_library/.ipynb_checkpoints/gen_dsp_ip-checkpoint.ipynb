{
 "cells": [
  {
   "cell_type": "code",
   "execution_count": 1,
   "id": "75ad22df-46d7-431e-b007-ea1eac48010b",
   "metadata": {},
   "outputs": [],
   "source": [
    "import os\n",
    "import sys\n",
    "from glob import glob \n",
    "sys.path.append('../jasper_library')\n",
    "sys.path.append('../jasper_library/yellow_blocks')\n"
   ]
  },
  {
   "cell_type": "code",
   "execution_count": 2,
   "id": "6419666a-ec78-42c6-b91e-9de8594e8433",
   "metadata": {},
   "outputs": [
    {
     "name": "stdout",
     "output_type": "stream",
     "text": [
      "/home/wei/scilab_demo/mlib_devel/scilab_library\n"
     ]
    }
   ],
   "source": [
    "# set env vars\n",
    "os.environ['MLIB_DEVEL_PATH'] = '/home/wei/scilab_demo/mlib_devel'\n",
    "os.environ['HDL_ROOT'] = '/home/wei/scilab_demo/mlib_devel/jasper_library/hdl_sources'\n",
    "import logging\n",
    "from argparse import ArgumentParser\n",
    "import dspflow"
   ]
  },
  {
   "cell_type": "code",
   "execution_count": 7,
   "id": "24e602c8-3f35-43dd-b61a-5c6e250f1d55",
   "metadata": {},
   "outputs": [],
   "source": [
    "mlib_devel_path = os.getenv('MLIB_DEVEL_PATH')\n",
    "jasper_hdl_root = os.getenv('HDL_ROOT')\n",
    "dsp_hdl_root = os.getenv('DSP_HDL_ROOT')\n",
    "if dsp_hdl_root is None:\n",
    "    os.environ['HDL_ROOT'] = mlib_devel_path+'/scilab_library/hdl_sources'\n",
    "else:\n",
    "    os.environ['HDL_ROOT'] = dsp_hdl_root"
   ]
  },
  {
   "cell_type": "code",
   "execution_count": 8,
   "id": "ebec94e1-f837-4e82-ae72-47f2f94d2669",
   "metadata": {},
   "outputs": [],
   "source": [
    "#builddir = opts.builddir or opts.model.split('.')[0]\n",
    "builddir = '/home/wei/Projects/scilab_test/adder_test'\n",
    "# create the build directory, and log file\n",
    "os.system('mkdir -p %s' % builddir)\n",
    "logger = logging.getLogger('jasper')\n",
    "logger.setLevel(logging.DEBUG)\n",
    "handler = logging.FileHandler('%s/jasper-dsp.log' % builddir, mode='w')\n",
    "handler.setLevel(logging.DEBUG)\n",
    "logformat = logging.Formatter('%(levelname)s - %(asctime)s - %(name)s - %(message)s')\n",
    "handler.setFormatter(logformat)\n",
    "logger.addHandler(handler)\n",
    "logger.info('Starting generating DSP IP')"
   ]
  },
  {
   "cell_type": "code",
   "execution_count": 9,
   "id": "0d8d1ccb-8e1e-4bd4-8cd0-84dd4d9a0234",
   "metadata": {},
   "outputs": [
    {
     "name": "stdout",
     "output_type": "stream",
     "text": [
      "/home/wei/scilab_demo/mlib_devel/jasper_library/platforms/rfsoc4x2.yaml\n",
      "{'name': 'rfsoc4x2', 'manufacturer': 'Xilinx', 'fpga': 'xczu48dr-ffvg1517-2-e', 'family': 'rfsoc', 'config_voltage': 1.8, 'cfgbvs': 'GND', 'backend_target': 'vivado', 'mmbus_architecture': 'AXI4-Lite', 'mmbus_base_address': 2684354560, 'mmbus_address_alignment': 4, 'sources': [], 'constraints': [], 'rfdc': {'tile224': {'has_adc_clk': True, 'adc_clk_src': 2}, 'tile225': {'has_adc_clk': False, 'adc_clk_src': 2}, 'tile226': {'has_adc_clk': True, 'adc_clk_src': 2}, 'tile227': {'has_adc_clk': False, 'adc_clk_src': 2}, 'tile228': {'has_dac_clk': True, 'dac_clk_src': 6}, 'tile229': {'has_dac_clk': False, 'dac_clk_src': 6}, 'tile230': {'has_dac_clk': True, 'dac_clk_src': 6}, 'tile231': {'has_dac_clk': False, 'dac_clk_src': 6}}, 'onehundredgbe': {'refclk_freq_str': '156.25', 'include_rs_fec': 1, 'ncommon': 1, 'management_interface': ['modprsl_ls', 'intl_ls'], 'cmac_loc': ['CMACE4_X0Y0']}, 'provides': ['adc_clk', 'axil_clk', 'sysref_in'], 'pins': {'clk_100_p': {'iostd': 'LVDS', 'loc': 'AM15'}, 'clk_100_n': {'iostd': 'LVDS', 'loc': 'AN15'}, 'ddr_clk_p': {'iostd': 'DIFF_SSTL12', 'loc': 'G12'}, 'ddr_clk_n': {'iostd': 'DIFF_SSTL12', 'loc': 'G13'}, 'qsfp_refclk_n': {'iostd': 'LVDS', 'loc': 'AL17'}, 'qsfp_refclk_p': {'iostd': 'LVDS', 'loc': 'AM17'}, 'irig_trig': {'iostd': 'LVCMOS18', 'loc': 'AH13'}, 'irig_comp': {'iostd': 'LVCMOS18', 'loc': 'AJ13'}, 'sysref_p': {'loc': 'D2'}, 'sysref_n': {'loc': 'D1'}, 'pl_sysref_p': {'iostd': 'LVDS', 'loc': 'AP18'}, 'pl_sysref_n': {'iostd': 'LVDS', 'loc': 'AR18'}, 'pl_clk_p': {'iostd': 'LVDS', 'loc': 'AN11'}, 'pl_clk_n': {'iostd': 'LVDS', 'loc': 'AP11'}, 'adc_clk_224_p': {'loc': 'BA3'}, 'adc_clk_224_n': {'loc': 'BB3'}, 'qsfp_mgt_ref_clk_p': {'loc': ['AA33']}, 'qsfp_mgt_ref_clk_n': {'loc': ['AA34']}, 'qsfp_mgt_tx_p': {'loc': ['Y35', 'T35', 'V35', 'R33']}, 'qsfp_mgt_tx_n': {'loc': ['Y36', 'T36', 'V36', 'R34']}, 'qsfp_mgt_rx_p': {'loc': ['R38', 'W38', 'U38', 'AA38']}, 'qsfp_mgt_rx_n': {'loc': ['R39', 'W39', 'U39', 'AA39']}, 'qsfp_modsel': {'iostd': 'LVCMOS18', 'loc': ['AK22']}, 'qsfp_modprsl_ls': {'iostd': 'LVCMOS18', 'loc': ['AL22']}, 'qsfp_sda': {'iostd': 'LVCMOS18', 'loc': ['None', 'None']}, 'qsfp_scl': {'iostd': 'LVCMOS18', 'loc': ['None', 'None']}, 'qsfp_intl_ls': {'iostd': 'LVCMOS18', 'loc': ['AM22']}, 'qsfp_reset_ls': {'iostd': 'LVCMOS18', 'loc': ['AL21']}, 'qsfp_lpmode_ls': {'iostd': 'LVCMOS18', 'loc': ['AN22']}, 'led': {'drive_strength': 8, 'iostd': 'LVCMOS18', 'loc': ['AR11', 'AW10', 'AT11', 'AU10', 'AM8', 'AM7', 'AN8', 'AR12', 'AP8', 'AT10']}, 'gpio': {'iostd': 'LVCMOS18', 'loc': ['AN13', 'AU12', 'AW11', 'AV11', 'AN12', 'AV12', 'AV10', 'AW9', 'AT12']}, 'pmod': {'iostd': 'LVCMOS18', 'loc': ['AF16', 'AG17', 'AJ16', 'AK17', 'AF15', 'AF17', 'AH17', 'AK16', 'AW13', 'AR13', 'AU13', 'AV13', 'AU15', 'AP14', 'AT15', 'AU14', 'AW16', 'AW15', 'AW14', 'AR16', 'AV16', 'AT16']}, 'syzygy_p2c_clk_p': {'iostd': 'LVCMOS18', 'loc': ['AV6']}, 'syzygy_p2c_clk_n': {'iostd': 'LVCMOS18', 'loc': ['B10']}, 'syzygy_c2p_clk_p': {'iostd': 'LVCMOS18', 'loc': ['B9']}, 'syzygy_c2p_clk_n': {'iostd': 'LVCMOS18', 'loc': ['AV5']}, 'syzygy_d_p': {'iostd': 'LVCMOS18', 'loc': ['AU2', 'A7', 'AV3', 'C8', 'AW4', 'E9', 'AT7', 'F6']}, 'syzygy_d_n': {'iostd': 'LVCMOS18', 'loc': ['AU1', 'A6', 'AV2', 'C7', 'AW3', 'E8', 'AT6', 'E6']}, 'syzygy_s': {'iostd': 'LVCMOS18', 'loc': ['B8', 'AR6', 'D6', 'AR7', 'C6', 'AU7', 'B5', 'AV7', 'A5', 'AU8', 'C5', 'AV8']}}}\n",
      "adder/* ['/home/wei/scilab_demo/mlib_devel/scilab_library/hdl_sources/adder/adder.v']\n",
      "adder/* ['/home/wei/scilab_demo/mlib_devel/scilab_library/hdl_sources/adder/adder.v']\n",
      "adder/* ['/home/wei/scilab_demo/mlib_devel/scilab_library/hdl_sources/adder/adder.v']\n",
      "adder/* ['/home/wei/scilab_demo/mlib_devel/scilab_library/hdl_sources/adder/adder.v']\n"
     ]
    }
   ],
   "source": [
    "tf = dspflow.DSPflow(builddir, 4)\n",
    "tf.gen_dsp_objs()"
   ]
  },
  {
   "cell_type": "code",
   "execution_count": 5,
   "id": "6d0c950f-720f-40b6-8375-fbc59b1a9e0b",
   "metadata": {},
   "outputs": [],
   "source": [
    "tf.build_top()"
   ]
  },
  {
   "cell_type": "code",
   "execution_count": 6,
   "id": "7f1cbff6-a0a7-48be-bd38-b747ee788760",
   "metadata": {},
   "outputs": [],
   "source": [
    "tf.generate_hdl()"
   ]
  },
  {
   "cell_type": "code",
   "execution_count": 7,
   "id": "ebe8c49f-dbd2-4bf7-89fb-51664e7e7ab7",
   "metadata": {},
   "outputs": [],
   "source": [
    "tf.dump_castro(tf.compile_dir+'/castro.yml')\n",
    "os.environ['HDL_ROOT'] = jasper_hdl_root"
   ]
  },
  {
   "cell_type": "code",
   "execution_count": 8,
   "id": "e53e45bd-12de-40f8-a75b-7ac1915be063",
   "metadata": {},
   "outputs": [],
   "source": [
    "platform = tf.plat"
   ]
  },
  {
   "cell_type": "code",
   "execution_count": 9,
   "id": "8d05647a-e7a0-4a2e-8d19-98885e13b5f0",
   "metadata": {},
   "outputs": [],
   "source": [
    "platform.project_mode = True"
   ]
  },
  {
   "cell_type": "code",
   "execution_count": 10,
   "id": "d409c701-a775-4c30-95d9-91bd2362d7ae",
   "metadata": {},
   "outputs": [],
   "source": [
    "backend = dspflow.VivadoDSPBackend(plat=platform,\n",
    "                                            compile_dir=tf.compile_dir,\n",
    "                                            periph_objs=tf.periph_objs)"
   ]
  },
  {
   "cell_type": "code",
   "execution_count": 11,
   "id": "ada6748b-101e-4cc8-82c0-f788b7913d46",
   "metadata": {},
   "outputs": [],
   "source": [
    "backend.import_from_castro(backend.compile_dir + '/castro.yml')"
   ]
  },
  {
   "cell_type": "code",
   "execution_count": 12,
   "id": "229eb8ee-2fe6-4561-906f-cd6278a956d8",
   "metadata": {},
   "outputs": [],
   "source": [
    "backend.project_name = 'dspproj'"
   ]
  },
  {
   "cell_type": "code",
   "execution_count": 13,
   "id": "443262be-5abb-4ec3-811c-36410a8d0b42",
   "metadata": {},
   "outputs": [],
   "source": [
    "backend.initialize()"
   ]
  },
  {
   "cell_type": "code",
   "execution_count": 14,
   "id": "ef1a11fb-881d-42fe-b7ab-d4b2a292dc8e",
   "metadata": {},
   "outputs": [
    {
     "name": "stdout",
     "output_type": "stream",
     "text": [
      "\n",
      "****** Vivado v2021.1 (64-bit)\n",
      "  **** SW Build 3247384 on Thu Jun 10 19:36:07 MDT 2021\n",
      "  **** IP Build 3246043 on Fri Jun 11 00:30:35 MDT 2021\n",
      "    ** Copyright 1986-2021 Xilinx, Inc. All Rights Reserved.\n",
      "\n",
      "source /home/wei/Projects/scilab_test/adder_test/gogogo.tcl\n",
      "# puts \"Starting tcl script\"\n",
      "Starting tcl script\n",
      "# cd /home/wei/Projects/scilab_test/adder_test\n",
      "# create_project -f dspproj dspproj -part xczu48dr-ffvg1517-2-e\n",
      "# set_property target_language VHDL [current_project]\n",
      "# import_files -force /home/wei/Projects/scilab_test/adder_test/adder_test_ip.v\n",
      "# import_files -force /home/wei/scilab_demo/mlib_devel/scilab_library/hdl_sources/adder/adder.v\n",
      "# import_files -force -fileset constrs_1 /home/wei/Projects/scilab_test/adder_test/user_const.xdc\n",
      "# set_property top adder_test [current_fileset]\n",
      "# update_compile_order -fileset sources_1\n",
      "CRITICAL WARNING: [filemgmt 20-742] The top module \"adder_test\" specified for this project can not be validated. The current project is using automatic hierarchy update mode, and hence a new suitable replacement top will be automatically selected. If this is not desired, please change the hierarchy update mode to one of the manual compile order modes first, and then set top to any desired value.\n",
      "Resolution: To switch to manual update order go to the Sources view, right-click on any node in the hierarchy and in the context menu select: 'Hierarchy Update' option 'No Update' or run the following Tcl Command: set_property source_mgmt_mode None [current_project] (which is the Manual Compile Order mode).\n",
      "# ipx::package_project -root_dir /home/wei/Projects/scilab_test/adder_test/dspproj/dspproj.srcs -vendor user.org -library user -taxonomy /UserIP\n",
      "INFO: [IP_Flow 19-234] Refreshing IP repositories\n",
      "INFO: [IP_Flow 19-1704] No user IP repositories specified\n",
      "INFO: [IP_Flow 19-2313] Loaded Vivado IP repository '/tools/Xilinx/Vivado/2021.1/data/ip'.\n",
      "INFO: [IP_Flow 19-5107] Inferred bus interface 'clk' of definition 'xilinx.com:signal:clock:1.0' (from Xilinx Repository).\n",
      "WARNING: [IP_Flow 19-5661] Bus Interface 'clk' does not have any bus interfaces associated with it.\n",
      "INFO: [IP_Flow 19-2181] Payment Required is not set for this core.\n",
      "INFO: [IP_Flow 19-2187] The Product Guide file is missing.\n",
      "# set_property display_name adder_test_ip [ipx::current_core]\n",
      "# set_property description adder_test_ip [ipx::current_core]\n",
      "# set_property core_revision 2 [ipx::current_core]\n",
      "# ipx::create_xgui_files [ipx::current_core]\n",
      "# ipx::update_checksums [ipx::current_core]\n",
      "# ipx::check_integrity [ipx::current_core]\n",
      "WARNING: [IP_Flow 19-5661] Bus Interface 'clk' does not have any bus interfaces associated with it.\n",
      "INFO: [IP_Flow 19-2181] Payment Required is not set for this core.\n",
      "INFO: [IP_Flow 19-2187] The Product Guide file is missing.\n",
      "INFO: [Ipptcl 7-1486] check_integrity: Integrity check passed.\n",
      "# ipx::save_core [ipx::current_core]\n",
      "# set_property  ip_repo_paths /home/wei/Projects/scilab_test/adder_test/dspproj/dspproj.srcs [current_project]\n",
      "# update_ip_catalog\n",
      "INFO: [IP_Flow 19-234] Refreshing IP repositories\n",
      "INFO: [IP_Flow 19-1700] Loaded user IP repository '/home/wei/Projects/scilab_test/adder_test/dspproj/dspproj.srcs'.\n",
      "INFO: [Common 17-206] Exiting Vivado at Sat Sep 21 15:10:57 2024...\n"
     ]
    }
   ],
   "source": [
    "backend.compile(cores=4, plat=platform)"
   ]
  },
  {
   "cell_type": "code",
   "execution_count": 5,
   "id": "67260c35-acbd-4763-983f-66623717c988",
   "metadata": {},
   "outputs": [
    {
     "data": {
      "text/plain": [
       "'/home/wei/scilab_demo/mlib_devel/scilab_library/hdl_sources'"
      ]
     },
     "execution_count": 5,
     "metadata": {},
     "output_type": "execute_result"
    }
   ],
   "source": [
    "tf.dsp_objs[0].hdl_root"
   ]
  },
  {
   "cell_type": "code",
   "execution_count": null,
   "id": "a8c0e74b-ab4b-4674-937f-6e122d35abb9",
   "metadata": {},
   "outputs": [],
   "source": []
  }
 ],
 "metadata": {
  "kernelspec": {
   "display_name": "Python 3 (ipykernel)",
   "language": "python",
   "name": "python3"
  },
  "language_info": {
   "codemirror_mode": {
    "name": "ipython",
    "version": 3
   },
   "file_extension": ".py",
   "mimetype": "text/x-python",
   "name": "python",
   "nbconvert_exporter": "python",
   "pygments_lexer": "ipython3",
   "version": "3.8.18"
  }
 },
 "nbformat": 4,
 "nbformat_minor": 5
}
