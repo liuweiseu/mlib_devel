{
 "cells": [
  {
   "cell_type": "code",
   "execution_count": 2,
   "id": "d80d5106-810a-46db-9134-cf8abaac8bb2",
   "metadata": {},
   "outputs": [],
   "source": [
    "import json\n",
    "import os\n",
    "from datetime import datetime\n",
    "from utils.design_info import gen_design_info\n",
    "from utils.git_info import gen_git_info\n",
    "from utils.utils import gen_glue_module, write_blkinfo_to_dict, dump_jasper"
   ]
  },
  {
   "cell_type": "code",
   "execution_count": 3,
   "id": "d347666d-4312-40c4-a925-357646b25386",
   "metadata": {},
   "outputs": [],
   "source": [
    "# set env vars\n",
    "os.environ['MLIB_DEVEL_PATH'] = '/home/wei/scilab_demo/mlib_devel'\n",
    "os.environ['HDL_ROOT'] = '/home/wei/scilab_demo/mlib_devel/scilab_library/hdl_sources'"
   ]
  },
  {
   "cell_type": "code",
   "execution_count": 41,
   "id": "31b4e60d-77dd-4191-ac74-d655e5e31e83",
   "metadata": {},
   "outputs": [],
   "source": [
    "# get the scilab path from the environment variable\n",
    "scilab_library_path = os.getenv('MLIB_DEVEL_PATH')+ '/scilab_library'"
   ]
  },
  {
   "cell_type": "code",
   "execution_count": 42,
   "id": "bc948803-df4c-4dbf-859e-ef7ab26a783d",
   "metadata": {},
   "outputs": [],
   "source": [
    "# open the jasper.json file\n",
    "with open('../jasper.json') as f:\n",
    "    blkinfo = json.load(f)\n",
    "# after reading the file, remove it\n",
    "# os.remove('jasper.json')\n",
    "# open the block_info_template.json file\n",
    "with open('%s/block_info_template.json'%(scilab_library_path)) as f:\n",
    "    blkinfo_template = json.load(f)"
   ]
  },
  {
   "cell_type": "code",
   "execution_count": 43,
   "id": "4a41887f-ebfd-4fc5-b526-2bb529074dfe",
   "metadata": {},
   "outputs": [],
   "source": [
    "# get the proj name\n",
    "blkfn = blkinfo['project']['filename']\n",
    "proj_name = blkfn.split('/')[-1].split('.')[0]\n",
    "filepath = blkfn.split('.')[0]"
   ]
  },
  {
   "cell_type": "code",
   "execution_count": 44,
   "id": "a113b470-9f14-426a-8fea-1f02a32e0a13",
   "metadata": {},
   "outputs": [],
   "source": [
    "# get the scilab blk, blk objs and link objs from the jaser.json file\n",
    "scilab_blk_objs = []\n",
    "blk_objs = []\n",
    "link_info = blkinfo['link_info']\n",
    "for k, v in blkinfo.items():\n",
    "    if k.startswith('blk'):\n",
    "        blk_objs.append(v)"
   ]
  },
  {
   "cell_type": "code",
   "execution_count": 45,
   "id": "22fa3b28-9471-4b2f-85af-5384adabd985",
   "metadata": {},
   "outputs": [
    {
     "name": "stdout",
     "output_type": "stream",
     "text": [
      "7\n"
     ]
    }
   ],
   "source": [
    "print(len(blkinfo['link_info']))"
   ]
  },
  {
   "cell_type": "code",
   "execution_count": 46,
   "id": "00975615-b126-4060-b412-2bbd1c40d4a4",
   "metadata": {},
   "outputs": [],
   "source": [
    "# genenrate yellow blocks dict\n",
    "xps_blocks = {}\n",
    "for blk in blk_objs:\n",
    "    tag = blk['tag']\n",
    "    # check if the block in the blockinfo starts with xps\n",
    "    if blkinfo_template[tag]['tag'].startswith('xps'):\n",
    "        # populate yellow block\n",
    "        key = proj_name + '/' + blk['val'][0][0]\n",
    "        xps_blocks[key] = write_blkinfo_to_dict(blk, blkinfo_template[tag])\n",
    "        xps_blocks[key]['fullpath'] = key"
   ]
  },
  {
   "cell_type": "code",
   "execution_count": 53,
   "id": "88a4da0c-c151-4961-b183-09758c5f1970",
   "metadata": {},
   "outputs": [],
   "source": [
    "# generate xps_user_module dict\n",
    "xps_user_modules = {}\n",
    "# generate dsp_user_module dict\n",
    "xps_user_modules = {}\n",
    "for link in link_info:\n",
    "    if link['link_type'] == 'xps_xps':\n",
    "        gen_glue_module(link, file_dir=filepath)\n",
    "        module_name = link['link_type'] + '_' + link['src_blk_name'] + '_' + link['dst_blk_name']\n",
    "        xps_user_modules[module_name] = {}\n",
    "        xps_user_modules[module_name]['clock'] = 'clk'\n",
    "        # add ports\n",
    "        xps_user_modules[module_name]['ports'] = []\n",
    "        xps_user_modules[module_name]['ports'].append(link['src_port_name'])\n",
    "        xps_user_modules[module_name]['ports'].append(link['dst_port_name'])\n",
    "        # add sources\n",
    "        xps_user_modules[module_name]['sources'] = []\n",
    "        xps_user_modules[module_name]['sources'].append('%s/%s.v'%(filepath, module_name))  \n",
    "# generate jasper.per\n",
    "jasper_per = {}\n",
    "jasper_per['yellow_blocks'] = xps_blocks\n",
    "jasper_per['user_modules'] = xps_user_modules\n",
    "#jasper_per_str = json.dumps(jasper_per, indent=2)\n",
    "#print(jasper_per_str)\n",
    "dump_jasper(jasper_per, fn='%s/jasper.per'%(filepath)) "
   ]
  },
  {
   "cell_type": "code",
   "execution_count": 54,
   "id": "b30ccd09-c205-4ca3-ba4d-6d5ce1b40e27",
   "metadata": {},
   "outputs": [],
   "source": [
    "# now, we need to generate jasper.dsp, which contains the dsp block info\n",
    "dsp_blocks = {}\n",
    "for blk in blk_objs:\n",
    "    tag = blk['tag']\n",
    "    # check if the block in the blockinfo starts with dsp or xps:xsg\n",
    "    # we need xps:xsg as it contains the platform info\n",
    "    if blkinfo_template[tag]['tag'].startswith('dsp') or blkinfo_template[tag]['tag'] == 'xps:xsg':\n",
    "        # populate dsp block\n",
    "        key = proj_name + '/' + blk['val'][0][0]\n",
    "        dsp_blocks[key] = write_blkinfo_to_dict(blk, blkinfo_template[tag])\n",
    "        dsp_blocks[key]['fullpath'] = key\n",
    "# generate dsp_user_module dict\n",
    "dsp_user_modules = {}\n",
    "for link in link_info:\n",
    "    if link['link_type'] == 'dsp_dsp':\n",
    "        gen_glue_module(link, file_dir=filepath)\n",
    "        module_name = link['link_type'] + '_' + link['src_blk_name'] + '_' + link['dst_blk_name']\n",
    "        dsp_user_modules[module_name] = {}\n",
    "        dsp_user_modules[module_name]['clock'] = 'clk'\n",
    "        # add ports\n",
    "        dsp_user_modules[module_name]['ports'] = []\n",
    "        dsp_user_modules[module_name]['ports'].append(link['src_port_name'])\n",
    "        dsp_user_modules[module_name]['ports'].append(link['dst_port_name'])\n",
    "        # add sources\n",
    "        dsp_user_modules[module_name]['sources'] = []\n",
    "        dsp_user_modules[module_name]['sources'].append('%s/%s.v'%(filepath, module_name))  \n",
    "# generate jasper.dsp\n",
    "jasper_dsp = {}\n",
    "jasper_dsp['dsp_blocks'] = dsp_blocks\n",
    "jasper_dsp['user_modules'] = dsp_user_modules\n",
    "#jasper_dsp_str = json.dumps(jasper_dsp, indent=2)\n",
    "#print(jasper_dsp_str)\n",
    "dump_jasper(jasper_dsp, fn='%s/jasper.dsp'%(filepath))"
   ]
  },
  {
   "cell_type": "code",
   "execution_count": null,
   "id": "1f31499d-d0ac-48bd-9dff-3184d640f4b6",
   "metadata": {},
   "outputs": [],
   "source": []
  }
 ],
 "metadata": {
  "kernelspec": {
   "display_name": "Python 3 (ipykernel)",
   "language": "python",
   "name": "python3"
  },
  "language_info": {
   "codemirror_mode": {
    "name": "ipython",
    "version": 3
   },
   "file_extension": ".py",
   "mimetype": "text/x-python",
   "name": "python",
   "nbconvert_exporter": "python",
   "pygments_lexer": "ipython3",
   "version": "3.8.18"
  }
 },
 "nbformat": 4,
 "nbformat_minor": 5
}
